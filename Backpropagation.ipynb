{
 "cells": [
  {
   "cell_type": "markdown",
   "metadata": {},
   "source": [
    "a) Implement a function for the forward propagation on a hidden layer l and a function for evaluating the ouput layer with the softmax function"
   ]
  },
  {
   "cell_type": "code",
   "execution_count": 20,
   "metadata": {},
   "outputs": [],
   "source": [
    "import numpy as np "
   ]
  },
  {
   "cell_type": "code",
   "execution_count": 21,
   "metadata": {},
   "outputs": [],
   "source": [
    "x = np.array([[0.1],[0.8]])\n",
    "y = np.array([[0], [0], [1]])\n",
    "\n",
    "# runde klammern mit eckigen ersetzen\n",
    "w1 = np.array([[0.2, 0.5], [0.3, 0.4]])\n",
    "w2 = np.array([[0.1, 0.3], [0.7, 0.4], [0.01, 0.02]])\n",
    "w = np.array((w1, w2), dtype=object)\n",
    "\n",
    "\n",
    "# runde klammern mit eckigen ersetzen\n",
    "b1 = np.array([[0.1], [0.6]])\n",
    "b2 = np.array([[0.2], [0.1], [0.4]])\n",
    "b = np.array((b1, b2), dtype=object)\n",
    "\n",
    "\n",
    "maxLayerIndex = w.size"
   ]
  },
  {
   "cell_type": "code",
   "execution_count": 23,
   "metadata": {},
   "outputs": [],
   "source": [
    "def z(l):\n",
    "  return w[l-1] @ a(l -1) + b[l -1]\n",
    "\n",
    "def a(l):\n",
    "  \n",
    "    if (l <= 0):\n",
    "      return x\n",
    "    \n",
    "    return g(z(l))\n",
    "\n",
    "def g(t):\n",
    "    return 1 / (1 + np.exp(-t))\n",
    "\n",
    "def derivedG(t):\n",
    "    return g(t) * (1 - g(t))"
   ]
  },
  {
   "cell_type": "code",
   "execution_count": 24,
   "metadata": {},
   "outputs": [],
   "source": [
    "def softmax(z):\n",
    "    return np.exp(z) / np.sum(np.exp(z))"
   ]
  },
  {
   "cell_type": "markdown",
   "metadata": {},
   "source": [
    "b) Implement a function for the delta rule on the output layer"
   ]
  },
  {
   "cell_type": "code",
   "execution_count": 25,
   "metadata": {},
   "outputs": [],
   "source": [
    "def deltaOutput(l):\n",
    "    return (y - softmax(z(l))) * (-1)"
   ]
  },
  {
   "cell_type": "markdown",
   "metadata": {},
   "source": [
    "c) Implement a function for the delta rule on a hidden layer l"
   ]
  },
  {
   "cell_type": "code",
   "execution_count": 26,
   "metadata": {},
   "outputs": [],
   "source": [
    "def deltaHidden(l):\n",
    "    return (w[l].T @ deltaOutput(l + 1)) * derivedG(z(l))"
   ]
  },
  {
   "cell_type": "markdown",
   "metadata": {},
   "source": [
    "(d) Implement a function for computing the gradient for the weigths W(l)"
   ]
  },
  {
   "cell_type": "code",
   "execution_count": 27,
   "metadata": {},
   "outputs": [],
   "source": [
    "def weightGradients(l):\n",
    "    if l + 1 >= maxLayerIndex:\n",
    "        return deltaOutput(l + 1) @ a(l).T\n",
    "    else:\n",
    "        return deltaHidden(l + 1) @ a(l).T\n",
    "    "
   ]
  },
  {
   "cell_type": "markdown",
   "metadata": {},
   "source": [
    "(e) Implement a function for computing the gradient for the biases b(l)"
   ]
  },
  {
   "cell_type": "code",
   "execution_count": 28,
   "metadata": {},
   "outputs": [],
   "source": [
    "def biasGradients(l):\n",
    "    if l + 1 >= maxLayerIndex:\n",
    "        return deltaOutput(l + 1) \n",
    "    else:\n",
    "        return deltaHidden(l + 1)\n"
   ]
  },
  {
   "cell_type": "markdown",
   "metadata": {},
   "source": [
    "(f) Put everything together to apply it for the given network"
   ]
  },
  {
   "cell_type": "code",
   "execution_count": 40,
   "metadata": {},
   "outputs": [
    {
     "name": "stdout",
     "output_type": "stream",
     "text": [
      "'*' means = when starting with 1\n",
      "\n",
      "w0 (*w1) Gradient= \n",
      "[[0.00742947 0.05943575]\n",
      " [0.00489815 0.03918524]]\n",
      "\n",
      "w1 (*w2) Gradient= \n",
      "[[ 0.18664481  0.21461036]\n",
      " [ 0.2644382   0.30405976]\n",
      " [-0.45108301 -0.51867012]]\n",
      "\n",
      "b0 (*b1) Gradient= \n",
      "[[0.07429468]\n",
      " [0.04898155]]\n",
      "\n",
      "b1 (*b2) Gradient= \n",
      "[[ 0.29760899]\n",
      " [ 0.42165215]\n",
      " [-0.71926113]]\n"
     ]
    }
   ],
   "source": [
    "print (\"'*' means = when starting with 1\")\n",
    "\n",
    "print()\n",
    "\n",
    "print(\"w0 (*w1) Gradient= \")\n",
    "print(weightGradients(0))\n",
    "\n",
    "print()\n",
    "\n",
    "print(\"w1 (*w2) Gradient= \")\n",
    "print(weightGradients(1))\n",
    "\n",
    "print()\n",
    "\n",
    "print (\"b0 (*b1) Gradient= \")\n",
    "print(biasGradients(0))\n",
    "\n",
    "print()\n",
    "\n",
    "print(\"b1 (*b2) Gradient= \")\n",
    "print(biasGradients(1))"
   ]
  }
 ],
 "metadata": {
  "interpreter": {
   "hash": "bfa69aadc8bd388467703aaf44151a9211fe6f35a2058613865535f18fdcd8b1"
  },
  "kernelspec": {
   "display_name": "Python 3.7.9 64-bit",
   "language": "python",
   "name": "python3"
  },
  "language_info": {
   "codemirror_mode": {
    "name": "ipython",
    "version": 3
   },
   "file_extension": ".py",
   "mimetype": "text/x-python",
   "name": "python",
   "nbconvert_exporter": "python",
   "pygments_lexer": "ipython3",
   "version": "3.7.9"
  },
  "orig_nbformat": 4
 },
 "nbformat": 4,
 "nbformat_minor": 2
}
